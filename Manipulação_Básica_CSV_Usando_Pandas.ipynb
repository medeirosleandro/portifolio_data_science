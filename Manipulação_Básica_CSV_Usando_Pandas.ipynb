{
  "nbformat": 4,
  "nbformat_minor": 0,
  "metadata": {
    "colab": {
      "name": "Manipulação Básica CSV Usando Pandas.ipynb",
      "provenance": [],
      "authorship_tag": "ABX9TyNOgLQ0Sv12VdVEoXy2OqGf",
      "include_colab_link": true
    },
    "kernelspec": {
      "name": "python3",
      "display_name": "Python 3"
    }
  },
  "cells": [
    {
      "cell_type": "markdown",
      "metadata": {
        "id": "view-in-github",
        "colab_type": "text"
      },
      "source": [
        "<a href=\"https://colab.research.google.com/github/medeirosleandro/portifolio_data_science/blob/main/Manipula%C3%A7%C3%A3o_B%C3%A1sica_CSV_Usando_Pandas.ipynb\" target=\"_parent\"><img src=\"https://colab.research.google.com/assets/colab-badge.svg\" alt=\"Open In Colab\"/></a>"
      ]
    },
    {
      "cell_type": "code",
      "metadata": {
        "id": "cOp3dNH0WD5j"
      },
      "source": [
        "#importar a biblioteca Pandas para manipulação de arquivos\n",
        "\n",
        "import pandas as pd"
      ],
      "execution_count": 3,
      "outputs": []
    },
    {
      "cell_type": "code",
      "metadata": {
        "id": "snybLmqaXpMe"
      },
      "source": [
        "#Lendo um arquivo csv e atribuindo à variável df\n",
        "\n",
        "\n",
        "df = pd.read_csv('https://raw.githubusercontent.com/medeirosleandro/archives/main/IRBR3.SA.csv')\n"
      ],
      "execution_count": 4,
      "outputs": []
    },
    {
      "cell_type": "code",
      "metadata": {
        "colab": {
          "base_uri": "https://localhost:8080/",
          "height": 195
        },
        "id": "t1jvLXTHcnhd",
        "outputId": "ac32b19d-b8ae-4613-de1e-c8991f585ac6"
      },
      "source": [
        "#Listar as 5 primeiras linhas do arquivo (Caso queria exibir um numero maior basta informar a quantidade como parametro, exemplo df.head(10))\n",
        "df.head()"
      ],
      "execution_count": 11,
      "outputs": [
        {
          "output_type": "execute_result",
          "data": {
            "text/html": [
              "<div>\n",
              "<style scoped>\n",
              "    .dataframe tbody tr th:only-of-type {\n",
              "        vertical-align: middle;\n",
              "    }\n",
              "\n",
              "    .dataframe tbody tr th {\n",
              "        vertical-align: top;\n",
              "    }\n",
              "\n",
              "    .dataframe thead th {\n",
              "        text-align: right;\n",
              "    }\n",
              "</style>\n",
              "<table border=\"1\" class=\"dataframe\">\n",
              "  <thead>\n",
              "    <tr style=\"text-align: right;\">\n",
              "      <th></th>\n",
              "      <th>Date</th>\n",
              "      <th>Open</th>\n",
              "      <th>High</th>\n",
              "      <th>Low</th>\n",
              "      <th>Close</th>\n",
              "      <th>Adj Close</th>\n",
              "      <th>Volume</th>\n",
              "    </tr>\n",
              "  </thead>\n",
              "  <tbody>\n",
              "    <tr>\n",
              "      <th>0</th>\n",
              "      <td>2020-01-02</td>\n",
              "      <td>36.040466</td>\n",
              "      <td>37.029266</td>\n",
              "      <td>35.587650</td>\n",
              "      <td>36.862926</td>\n",
              "      <td>35.231285</td>\n",
              "      <td>4631027.0</td>\n",
              "    </tr>\n",
              "    <tr>\n",
              "      <th>1</th>\n",
              "      <td>2020-01-03</td>\n",
              "      <td>36.086670</td>\n",
              "      <td>37.010784</td>\n",
              "      <td>36.086670</td>\n",
              "      <td>36.576450</td>\n",
              "      <td>34.957485</td>\n",
              "      <td>3850064.0</td>\n",
              "    </tr>\n",
              "    <tr>\n",
              "      <th>2</th>\n",
              "      <td>2020-01-06</td>\n",
              "      <td>36.594933</td>\n",
              "      <td>36.724308</td>\n",
              "      <td>35.827919</td>\n",
              "      <td>36.234528</td>\n",
              "      <td>34.630703</td>\n",
              "      <td>5162780.0</td>\n",
              "    </tr>\n",
              "    <tr>\n",
              "      <th>3</th>\n",
              "      <td>2020-01-07</td>\n",
              "      <td>36.253010</td>\n",
              "      <td>36.539486</td>\n",
              "      <td>35.911091</td>\n",
              "      <td>36.474796</td>\n",
              "      <td>34.860336</td>\n",
              "      <td>3330431.0</td>\n",
              "    </tr>\n",
              "    <tr>\n",
              "      <th>4</th>\n",
              "      <td>2020-01-08</td>\n",
              "      <td>36.502522</td>\n",
              "      <td>36.752033</td>\n",
              "      <td>36.049706</td>\n",
              "      <td>36.613415</td>\n",
              "      <td>34.992821</td>\n",
              "      <td>3299266.0</td>\n",
              "    </tr>\n",
              "  </tbody>\n",
              "</table>\n",
              "</div>"
            ],
            "text/plain": [
              "         Date       Open       High        Low      Close  Adj Close     Volume\n",
              "0  2020-01-02  36.040466  37.029266  35.587650  36.862926  35.231285  4631027.0\n",
              "1  2020-01-03  36.086670  37.010784  36.086670  36.576450  34.957485  3850064.0\n",
              "2  2020-01-06  36.594933  36.724308  35.827919  36.234528  34.630703  5162780.0\n",
              "3  2020-01-07  36.253010  36.539486  35.911091  36.474796  34.860336  3330431.0\n",
              "4  2020-01-08  36.502522  36.752033  36.049706  36.613415  34.992821  3299266.0"
            ]
          },
          "metadata": {
            "tags": []
          },
          "execution_count": 11
        }
      ]
    },
    {
      "cell_type": "code",
      "metadata": {
        "colab": {
          "base_uri": "https://localhost:8080/",
          "height": 195
        },
        "id": "57X2mxSpc_gF",
        "outputId": "f0c63325-b47b-4caf-c4f7-2eb8262048ba"
      },
      "source": [
        "#Listar as 5 últimas linhas do arquivo\n",
        "\n",
        "df.tail()"
      ],
      "execution_count": null,
      "outputs": [
        {
          "output_type": "execute_result",
          "data": {
            "text/html": [
              "<div>\n",
              "<style scoped>\n",
              "    .dataframe tbody tr th:only-of-type {\n",
              "        vertical-align: middle;\n",
              "    }\n",
              "\n",
              "    .dataframe tbody tr th {\n",
              "        vertical-align: top;\n",
              "    }\n",
              "\n",
              "    .dataframe thead th {\n",
              "        text-align: right;\n",
              "    }\n",
              "</style>\n",
              "<table border=\"1\" class=\"dataframe\">\n",
              "  <thead>\n",
              "    <tr style=\"text-align: right;\">\n",
              "      <th></th>\n",
              "      <th>Date</th>\n",
              "      <th>Open</th>\n",
              "      <th>High</th>\n",
              "      <th>Low</th>\n",
              "      <th>Close</th>\n",
              "      <th>Adj Close</th>\n",
              "      <th>Volume</th>\n",
              "    </tr>\n",
              "  </thead>\n",
              "  <tbody>\n",
              "    <tr>\n",
              "      <th>243</th>\n",
              "      <td>2020-12-22</td>\n",
              "      <td>7.20</td>\n",
              "      <td>7.29</td>\n",
              "      <td>7.09</td>\n",
              "      <td>7.19</td>\n",
              "      <td>7.19</td>\n",
              "      <td>27814400.0</td>\n",
              "    </tr>\n",
              "    <tr>\n",
              "      <th>244</th>\n",
              "      <td>2020-12-23</td>\n",
              "      <td>7.25</td>\n",
              "      <td>7.59</td>\n",
              "      <td>7.19</td>\n",
              "      <td>7.24</td>\n",
              "      <td>7.24</td>\n",
              "      <td>72652900.0</td>\n",
              "    </tr>\n",
              "    <tr>\n",
              "      <th>245</th>\n",
              "      <td>2020-12-28</td>\n",
              "      <td>7.48</td>\n",
              "      <td>8.19</td>\n",
              "      <td>7.38</td>\n",
              "      <td>8.11</td>\n",
              "      <td>8.11</td>\n",
              "      <td>168623400.0</td>\n",
              "    </tr>\n",
              "    <tr>\n",
              "      <th>246</th>\n",
              "      <td>2020-12-29</td>\n",
              "      <td>8.21</td>\n",
              "      <td>8.52</td>\n",
              "      <td>7.83</td>\n",
              "      <td>8.21</td>\n",
              "      <td>8.21</td>\n",
              "      <td>152705900.0</td>\n",
              "    </tr>\n",
              "    <tr>\n",
              "      <th>247</th>\n",
              "      <td>2020-12-30</td>\n",
              "      <td>8.21</td>\n",
              "      <td>8.46</td>\n",
              "      <td>8.06</td>\n",
              "      <td>8.18</td>\n",
              "      <td>8.18</td>\n",
              "      <td>97979200.0</td>\n",
              "    </tr>\n",
              "  </tbody>\n",
              "</table>\n",
              "</div>"
            ],
            "text/plain": [
              "           Date  Open  High   Low  Close  Adj Close       Volume\n",
              "243  2020-12-22  7.20  7.29  7.09   7.19       7.19   27814400.0\n",
              "244  2020-12-23  7.25  7.59  7.19   7.24       7.24   72652900.0\n",
              "245  2020-12-28  7.48  8.19  7.38   8.11       8.11  168623400.0\n",
              "246  2020-12-29  8.21  8.52  7.83   8.21       8.21  152705900.0\n",
              "247  2020-12-30  8.21  8.46  8.06   8.18       8.18   97979200.0"
            ]
          },
          "metadata": {
            "tags": []
          },
          "execution_count": 6
        }
      ]
    },
    {
      "cell_type": "code",
      "metadata": {
        "id": "sJ-ZHmp7dSW1",
        "colab": {
          "base_uri": "https://localhost:8080/"
        },
        "outputId": "a1148761-fa20-4e24-95db-cdf163df88ba"
      },
      "source": [
        "#Para confirmar o tipo da variavel df\n",
        "type(df)"
      ],
      "execution_count": 5,
      "outputs": [
        {
          "output_type": "execute_result",
          "data": {
            "text/plain": [
              "pandas.core.frame.DataFrame"
            ]
          },
          "metadata": {
            "tags": []
          },
          "execution_count": 5
        }
      ]
    },
    {
      "cell_type": "code",
      "metadata": {
        "colab": {
          "base_uri": "https://localhost:8080/"
        },
        "id": "qijjB-9uUbNN",
        "outputId": "c692dafa-bad2-4eca-9995-3982efb596dd"
      },
      "source": [
        "#para saber o tamanho do DataFrame (No exemplo usado aqui, são 248 linhas e 7 colunas)\n",
        "df.shape"
      ],
      "execution_count": 7,
      "outputs": [
        {
          "output_type": "execute_result",
          "data": {
            "text/plain": [
              "(248, 7)"
            ]
          },
          "metadata": {
            "tags": []
          },
          "execution_count": 7
        }
      ]
    },
    {
      "cell_type": "code",
      "metadata": {
        "colab": {
          "base_uri": "https://localhost:8080/"
        },
        "id": "mMC3YOAbVHuJ",
        "outputId": "7875cbc8-3520-4c07-95b9-c1ab2d6a4d4d"
      },
      "source": [
        "#para indentificar os nomes das colunas\n",
        "df.columns"
      ],
      "execution_count": 8,
      "outputs": [
        {
          "output_type": "execute_result",
          "data": {
            "text/plain": [
              "Index(['Date', 'Open', 'High', 'Low', 'Close', 'Adj Close', 'Volume'], dtype='object')"
            ]
          },
          "metadata": {
            "tags": []
          },
          "execution_count": 8
        }
      ]
    },
    {
      "cell_type": "code",
      "metadata": {
        "colab": {
          "base_uri": "https://localhost:8080/"
        },
        "id": "TwjDZ8lnYAHC",
        "outputId": "8aab7403-6da9-4e2d-f6cb-d07544ff23df"
      },
      "source": [
        "#Para identificar o tipo das variáveis de cada coluna\n",
        "df.dtypes"
      ],
      "execution_count": 9,
      "outputs": [
        {
          "output_type": "execute_result",
          "data": {
            "text/plain": [
              "Date          object\n",
              "Open         float64\n",
              "High         float64\n",
              "Low          float64\n",
              "Close        float64\n",
              "Adj Close    float64\n",
              "Volume       float64\n",
              "dtype: object"
            ]
          },
          "metadata": {
            "tags": []
          },
          "execution_count": 9
        }
      ]
    },
    {
      "cell_type": "code",
      "metadata": {
        "colab": {
          "base_uri": "https://localhost:8080/"
        },
        "id": "9Y_8nu-cY_zk",
        "outputId": "434d01ad-439b-499f-f48d-189c3aa8db76"
      },
      "source": [
        "#Outra maneira de verificar o tipo das variáveis é através do método df.info(), ele também exibe os valores ausentes nas células.\n",
        "df.info()"
      ],
      "execution_count": 12,
      "outputs": [
        {
          "output_type": "stream",
          "text": [
            "<class 'pandas.core.frame.DataFrame'>\n",
            "RangeIndex: 248 entries, 0 to 247\n",
            "Data columns (total 7 columns):\n",
            " #   Column     Non-Null Count  Dtype  \n",
            "---  ------     --------------  -----  \n",
            " 0   Date       248 non-null    object \n",
            " 1   Open       247 non-null    float64\n",
            " 2   High       247 non-null    float64\n",
            " 3   Low        247 non-null    float64\n",
            " 4   Close      247 non-null    float64\n",
            " 5   Adj Close  247 non-null    float64\n",
            " 6   Volume     247 non-null    float64\n",
            "dtypes: float64(6), object(1)\n",
            "memory usage: 13.7+ KB\n"
          ],
          "name": "stdout"
        }
      ]
    },
    {
      "cell_type": "code",
      "metadata": {
        "colab": {
          "base_uri": "https://localhost:8080/"
        },
        "id": "lFrsDmMzaazp",
        "outputId": "2845e929-0fb8-4c82-c913-4cef5b430ee8"
      },
      "source": [
        "#Para selecionar uma coluna especifica\n",
        "df['Open']\n",
        "#Outra forma de seleciona uma coluna caso ela não possua espaços em seu nome é df.Open"
      ],
      "execution_count": 23,
      "outputs": [
        {
          "output_type": "execute_result",
          "data": {
            "text/plain": [
              "0      36.040466\n",
              "1      36.086670\n",
              "2      36.594933\n",
              "3      36.253010\n",
              "4      36.502522\n",
              "         ...    \n",
              "243     7.200000\n",
              "244     7.250000\n",
              "245     7.480000\n",
              "246     8.210000\n",
              "247     8.210000\n",
              "Name: Open, Length: 248, dtype: float64"
            ]
          },
          "metadata": {
            "tags": []
          },
          "execution_count": 23
        }
      ]
    },
    {
      "cell_type": "code",
      "metadata": {
        "colab": {
          "base_uri": "https://localhost:8080/"
        },
        "id": "cOcUgtFZd7Py",
        "outputId": "27f01392-70a9-41e5-d78a-9b4bf1d031aa"
      },
      "source": [
        "df.Open"
      ],
      "execution_count": 24,
      "outputs": [
        {
          "output_type": "execute_result",
          "data": {
            "text/plain": [
              "0      36.040466\n",
              "1      36.086670\n",
              "2      36.594933\n",
              "3      36.253010\n",
              "4      36.502522\n",
              "         ...    \n",
              "243     7.200000\n",
              "244     7.250000\n",
              "245     7.480000\n",
              "246     8.210000\n",
              "247     8.210000\n",
              "Name: Open, Length: 248, dtype: float64"
            ]
          },
          "metadata": {
            "tags": []
          },
          "execution_count": 24
        }
      ]
    },
    {
      "cell_type": "code",
      "metadata": {
        "colab": {
          "base_uri": "https://localhost:8080/"
        },
        "id": "kOuwiTtNcLd5",
        "outputId": "420e46c2-0613-498a-eb6a-d4f0afea4273"
      },
      "source": [
        "#calcula a média da coluna \"Open\"\n",
        "df.Open.mean()"
      ],
      "execution_count": 22,
      "outputs": [
        {
          "output_type": "execute_result",
          "data": {
            "text/plain": [
              "12.839092149797573"
            ]
          },
          "metadata": {
            "tags": []
          },
          "execution_count": 22
        }
      ]
    },
    {
      "cell_type": "code",
      "metadata": {
        "colab": {
          "base_uri": "https://localhost:8080/"
        },
        "id": "3-bVrlI5dTxR",
        "outputId": "0d2d856c-00df-4d0d-eeae-a4bcdfa4f82f"
      },
      "source": [
        "#Caso o arquivo possua datas com Dtype Object, como no caso do csv usado aqui, onde o formato é string,\n",
        "#que não permite uma manipulação eficiente. Será necessária a conversão \n",
        "df.Date"
      ],
      "execution_count": 27,
      "outputs": [
        {
          "output_type": "execute_result",
          "data": {
            "text/plain": [
              "0      2020-01-02\n",
              "1      2020-01-03\n",
              "2      2020-01-06\n",
              "3      2020-01-07\n",
              "4      2020-01-08\n",
              "          ...    \n",
              "243    2020-12-22\n",
              "244    2020-12-23\n",
              "245    2020-12-28\n",
              "246    2020-12-29\n",
              "247    2020-12-30\n",
              "Name: Date, Length: 248, dtype: object"
            ]
          },
          "metadata": {
            "tags": []
          },
          "execution_count": 27
        }
      ]
    },
    {
      "cell_type": "code",
      "metadata": {
        "id": "QxVGsfTzfyj-"
      },
      "source": [
        "#Converter coluna Date em datetime\n",
        "df.Date = pd.to_datetime(df.Date, format=\"%Y-%m-%d\")"
      ],
      "execution_count": 28,
      "outputs": []
    },
    {
      "cell_type": "code",
      "metadata": {
        "colab": {
          "base_uri": "https://localhost:8080/"
        },
        "id": "cSNM_2mpiN5t",
        "outputId": "0e6e8894-d3c6-4b01-e1ea-8d6891c17f51"
      },
      "source": [
        "df.Date"
      ],
      "execution_count": 29,
      "outputs": [
        {
          "output_type": "execute_result",
          "data": {
            "text/plain": [
              "0     2020-01-02\n",
              "1     2020-01-03\n",
              "2     2020-01-06\n",
              "3     2020-01-07\n",
              "4     2020-01-08\n",
              "         ...    \n",
              "243   2020-12-22\n",
              "244   2020-12-23\n",
              "245   2020-12-28\n",
              "246   2020-12-29\n",
              "247   2020-12-30\n",
              "Name: Date, Length: 248, dtype: datetime64[ns]"
            ]
          },
          "metadata": {
            "tags": []
          },
          "execution_count": 29
        }
      ]
    },
    {
      "cell_type": "code",
      "metadata": {
        "colab": {
          "base_uri": "https://localhost:8080/"
        },
        "id": "hXJBNuojiQ-Q",
        "outputId": "aebcf8ae-cbc5-45a6-fd5c-52a8a42d6e81"
      },
      "source": [
        "#Acessando componetes da data após conversão\n",
        "df.Date.dt.year"
      ],
      "execution_count": 30,
      "outputs": [
        {
          "output_type": "execute_result",
          "data": {
            "text/plain": [
              "0      2020\n",
              "1      2020\n",
              "2      2020\n",
              "3      2020\n",
              "4      2020\n",
              "       ... \n",
              "243    2020\n",
              "244    2020\n",
              "245    2020\n",
              "246    2020\n",
              "247    2020\n",
              "Name: Date, Length: 248, dtype: int64"
            ]
          },
          "metadata": {
            "tags": []
          },
          "execution_count": 30
        }
      ]
    },
    {
      "cell_type": "code",
      "metadata": {
        "colab": {
          "base_uri": "https://localhost:8080/"
        },
        "id": "fs_mGiNLiilp",
        "outputId": "d99b6f26-b3c1-4a3f-db5f-d9188e58a924"
      },
      "source": [
        "df.Date.dt.quarter"
      ],
      "execution_count": 33,
      "outputs": [
        {
          "output_type": "execute_result",
          "data": {
            "text/plain": [
              "0      1\n",
              "1      1\n",
              "2      1\n",
              "3      1\n",
              "4      1\n",
              "      ..\n",
              "243    4\n",
              "244    4\n",
              "245    4\n",
              "246    4\n",
              "247    4\n",
              "Name: Date, Length: 248, dtype: int64"
            ]
          },
          "metadata": {
            "tags": []
          },
          "execution_count": 33
        }
      ]
    },
    {
      "cell_type": "code",
      "metadata": {
        "id": "rz6D2ITFinff"
      },
      "source": [
        ""
      ],
      "execution_count": null,
      "outputs": []
    }
  ]
}