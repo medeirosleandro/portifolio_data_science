{
  "nbformat": 4,
  "nbformat_minor": 0,
  "metadata": {
    "colab": {
      "name": "Criando DataFrame.ipynb",
      "provenance": [],
      "authorship_tag": "ABX9TyPV5OpZRslnRaq2DJgduJHo",
      "include_colab_link": true
    },
    "kernelspec": {
      "name": "python3",
      "display_name": "Python 3"
    }
  },
  "cells": [
    {
      "cell_type": "markdown",
      "metadata": {
        "id": "view-in-github",
        "colab_type": "text"
      },
      "source": [
        "<a href=\"https://colab.research.google.com/github/medeirosleandro/portifolio_data_science/blob/main/Criando_DataFrame.ipynb\" target=\"_parent\"><img src=\"https://colab.research.google.com/assets/colab-badge.svg\" alt=\"Open In Colab\"/></a>"
      ]
    },
    {
      "cell_type": "markdown",
      "metadata": {
        "id": "jiA1_zakce-L"
      },
      "source": [
        "## Criando DataFrames a partir de Dicionários"
      ]
    },
    {
      "cell_type": "code",
      "metadata": {
        "id": "1SSSIEI2bPqn"
      },
      "source": [
        "#importar Pandas\n",
        "import pandas as pd"
      ],
      "execution_count": 2,
      "outputs": []
    },
    {
      "cell_type": "code",
      "metadata": {
        "id": "rCBZts9bcxue"
      },
      "source": [
        "#criando dicinário\n",
        "#Cada chave e valor do dicionário é o correspondente a uma coluna do DataFrame\n",
        "\n",
        "dic_alunos = {\n",
        "    \"nome\":[\"Leandro\",\"Renata\",\"Fabiano\",\"Plínio\",\"Virgulino\"],\n",
        "    \"sobreNome\":[\"Medeiros\",\"Dias\",\"Andrade\",\"Peters\",\"Ferreira\"],\n",
        "    \"notaFinal\":[9.5,10,7.5,8,3],\n",
        "    \"Aprovado\":[True,True,True,True,False]\n",
        "}"
      ],
      "execution_count": 1,
      "outputs": []
    },
    {
      "cell_type": "code",
      "metadata": {
        "colab": {
          "base_uri": "https://localhost:8080/"
        },
        "id": "aIrLVv-weyzh",
        "outputId": "67fc947c-c106-467c-e213-3fe09be92611"
      },
      "source": [
        "#Confirmando que a variável é do tipo Dicionário\n",
        "type(dic_alunos)"
      ],
      "execution_count": null,
      "outputs": [
        {
          "output_type": "execute_result",
          "data": {
            "text/plain": [
              "dict"
            ]
          },
          "metadata": {
            "tags": []
          },
          "execution_count": 7
        }
      ]
    },
    {
      "cell_type": "code",
      "metadata": {
        "id": "TmpOINttfDk_"
      },
      "source": [
        "#criar DataFrame\n",
        "\n",
        "df = pd.DataFrame(dic_alunos)"
      ],
      "execution_count": null,
      "outputs": []
    },
    {
      "cell_type": "code",
      "metadata": {
        "colab": {
          "base_uri": "https://localhost:8080/",
          "height": 195
        },
        "id": "N3ujUTzGft1U",
        "outputId": "21bce041-d2a3-4965-f3a7-f323affddc53"
      },
      "source": [
        "#visualizar  DataFrame\n",
        "df"
      ],
      "execution_count": null,
      "outputs": [
        {
          "output_type": "execute_result",
          "data": {
            "text/html": [
              "<div>\n",
              "<style scoped>\n",
              "    .dataframe tbody tr th:only-of-type {\n",
              "        vertical-align: middle;\n",
              "    }\n",
              "\n",
              "    .dataframe tbody tr th {\n",
              "        vertical-align: top;\n",
              "    }\n",
              "\n",
              "    .dataframe thead th {\n",
              "        text-align: right;\n",
              "    }\n",
              "</style>\n",
              "<table border=\"1\" class=\"dataframe\">\n",
              "  <thead>\n",
              "    <tr style=\"text-align: right;\">\n",
              "      <th></th>\n",
              "      <th>nome</th>\n",
              "      <th>sobreNome</th>\n",
              "      <th>notaFinal</th>\n",
              "      <th>Aprovado</th>\n",
              "    </tr>\n",
              "  </thead>\n",
              "  <tbody>\n",
              "    <tr>\n",
              "      <th>0</th>\n",
              "      <td>Leandro</td>\n",
              "      <td>Medeiros</td>\n",
              "      <td>9.5</td>\n",
              "      <td>True</td>\n",
              "    </tr>\n",
              "    <tr>\n",
              "      <th>1</th>\n",
              "      <td>Renata</td>\n",
              "      <td>Dias</td>\n",
              "      <td>10.0</td>\n",
              "      <td>True</td>\n",
              "    </tr>\n",
              "    <tr>\n",
              "      <th>2</th>\n",
              "      <td>Fabiano</td>\n",
              "      <td>Andrade</td>\n",
              "      <td>7.5</td>\n",
              "      <td>True</td>\n",
              "    </tr>\n",
              "    <tr>\n",
              "      <th>3</th>\n",
              "      <td>Plínio</td>\n",
              "      <td>Peters</td>\n",
              "      <td>8.0</td>\n",
              "      <td>True</td>\n",
              "    </tr>\n",
              "    <tr>\n",
              "      <th>4</th>\n",
              "      <td>Virgulino</td>\n",
              "      <td>Ferreira</td>\n",
              "      <td>3.0</td>\n",
              "      <td>False</td>\n",
              "    </tr>\n",
              "  </tbody>\n",
              "</table>\n",
              "</div>"
            ],
            "text/plain": [
              "        nome sobreNome  notaFinal  Aprovado\n",
              "0    Leandro  Medeiros        9.5      True\n",
              "1     Renata      Dias       10.0      True\n",
              "2    Fabiano   Andrade        7.5      True\n",
              "3     Plínio    Peters        8.0      True\n",
              "4  Virgulino  Ferreira        3.0     False"
            ]
          },
          "metadata": {
            "tags": []
          },
          "execution_count": 17
        }
      ]
    },
    {
      "cell_type": "code",
      "metadata": {
        "id": "XnKMCtrvfxVk"
      },
      "source": [
        "#customizando id do usuário\n",
        "id_aluno = [111,222,333,444,555]"
      ],
      "execution_count": null,
      "outputs": []
    },
    {
      "cell_type": "code",
      "metadata": {
        "id": "3FmRgyCkmOOY"
      },
      "source": [
        "#associar o id customizado do usuário à lista\n",
        "df.index = id_aluno"
      ],
      "execution_count": null,
      "outputs": []
    },
    {
      "cell_type": "markdown",
      "metadata": {
        "id": "TI3ah4w-oVOL"
      },
      "source": [
        "![Criando-DataFrame-ipynb-Colaboratory.png](data:image/png;base64,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)\n",
        "![Criando-DataFrame-ipynb-Colaboratory (1).png](data:image/png;base64,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)"
      ]
    },
    {
      "cell_type": "code",
      "metadata": {
        "colab": {
          "base_uri": "https://localhost:8080/",
          "height": 195
        },
        "id": "R5WHXe4YmvVK",
        "outputId": "9a7119ec-3f3b-4b59-ce9d-4e997547c8a1"
      },
      "source": [
        "#Verificar resultado com os novos Ids\n",
        "df"
      ],
      "execution_count": null,
      "outputs": [
        {
          "output_type": "execute_result",
          "data": {
            "text/html": [
              "<div>\n",
              "<style scoped>\n",
              "    .dataframe tbody tr th:only-of-type {\n",
              "        vertical-align: middle;\n",
              "    }\n",
              "\n",
              "    .dataframe tbody tr th {\n",
              "        vertical-align: top;\n",
              "    }\n",
              "\n",
              "    .dataframe thead th {\n",
              "        text-align: right;\n",
              "    }\n",
              "</style>\n",
              "<table border=\"1\" class=\"dataframe\">\n",
              "  <thead>\n",
              "    <tr style=\"text-align: right;\">\n",
              "      <th></th>\n",
              "      <th>nome</th>\n",
              "      <th>sobreNome</th>\n",
              "      <th>notaFinal</th>\n",
              "      <th>Aprovado</th>\n",
              "    </tr>\n",
              "  </thead>\n",
              "  <tbody>\n",
              "    <tr>\n",
              "      <th>111</th>\n",
              "      <td>Leandro</td>\n",
              "      <td>Medeiros</td>\n",
              "      <td>9.5</td>\n",
              "      <td>True</td>\n",
              "    </tr>\n",
              "    <tr>\n",
              "      <th>222</th>\n",
              "      <td>Renata</td>\n",
              "      <td>Dias</td>\n",
              "      <td>10.0</td>\n",
              "      <td>True</td>\n",
              "    </tr>\n",
              "    <tr>\n",
              "      <th>333</th>\n",
              "      <td>Fabiano</td>\n",
              "      <td>Andrade</td>\n",
              "      <td>7.5</td>\n",
              "      <td>True</td>\n",
              "    </tr>\n",
              "    <tr>\n",
              "      <th>444</th>\n",
              "      <td>Plínio</td>\n",
              "      <td>Peters</td>\n",
              "      <td>8.0</td>\n",
              "      <td>True</td>\n",
              "    </tr>\n",
              "    <tr>\n",
              "      <th>555</th>\n",
              "      <td>Virgulino</td>\n",
              "      <td>Ferreira</td>\n",
              "      <td>3.0</td>\n",
              "      <td>False</td>\n",
              "    </tr>\n",
              "  </tbody>\n",
              "</table>\n",
              "</div>"
            ],
            "text/plain": [
              "          nome sobreNome  notaFinal  Aprovado\n",
              "111    Leandro  Medeiros        9.5      True\n",
              "222     Renata      Dias       10.0      True\n",
              "333    Fabiano   Andrade        7.5      True\n",
              "444     Plínio    Peters        8.0      True\n",
              "555  Virgulino  Ferreira        3.0     False"
            ]
          },
          "metadata": {
            "tags": []
          },
          "execution_count": 28
        }
      ]
    },
    {
      "cell_type": "markdown",
      "metadata": {
        "id": "IY9ezzlDEUUk"
      },
      "source": [
        "##Criando DataFrames a partir de Listas \n",
        "Listas também são estruturas muito usadas em Python, e não é incomum termos que criar DataFrames a partir destas."
      ]
    },
    {
      "cell_type": "code",
      "metadata": {
        "id": "XAZVrSkV0ZWf"
      },
      "source": [
        "#listas\n",
        "\n",
        "lista_alunos = [[\"Leandro\",\"Medeiros\",9.5,\"True\"],\n",
        "                [\"Renata\",\"Dias\",10.0,\"True\"],\n",
        "                [\"Fabiano\",\"Andrade\",7.5,\"True\"],\n",
        "                [\"Plínio\",\"Peters\",8.0,\"True\"],\n",
        "                [\"Virgulino\",\"Ferreira\",3.0,\"False\"] \n",
        "                \n",
        "]"
      ],
      "execution_count": 4,
      "outputs": []
    },
    {
      "cell_type": "code",
      "metadata": {
        "id": "kebZrqLhE8dk"
      },
      "source": [
        "#Criando DataFrame, atribuindo um index e o Titulo para colunas\n",
        "df = pd.DataFrame(lista_alunos, index = [222,345,789,4322,3434], columns= [\"Nome\",\"Sobrenome\",\"Nota Final\",\"Aprovado\"])"
      ],
      "execution_count": 7,
      "outputs": []
    },
    {
      "cell_type": "code",
      "metadata": {
        "colab": {
          "base_uri": "https://localhost:8080/",
          "height": 195
        },
        "id": "-T0aGHcoKAH5",
        "outputId": "0f650ed7-9db5-4e4c-a5d9-de95e57155ae"
      },
      "source": [
        "df"
      ],
      "execution_count": 6,
      "outputs": [
        {
          "output_type": "execute_result",
          "data": {
            "text/html": [
              "<div>\n",
              "<style scoped>\n",
              "    .dataframe tbody tr th:only-of-type {\n",
              "        vertical-align: middle;\n",
              "    }\n",
              "\n",
              "    .dataframe tbody tr th {\n",
              "        vertical-align: top;\n",
              "    }\n",
              "\n",
              "    .dataframe thead th {\n",
              "        text-align: right;\n",
              "    }\n",
              "</style>\n",
              "<table border=\"1\" class=\"dataframe\">\n",
              "  <thead>\n",
              "    <tr style=\"text-align: right;\">\n",
              "      <th></th>\n",
              "      <th>Nome</th>\n",
              "      <th>Sobrenome</th>\n",
              "      <th>Nota Final</th>\n",
              "      <th>Aprovado</th>\n",
              "    </tr>\n",
              "  </thead>\n",
              "  <tbody>\n",
              "    <tr>\n",
              "      <th>222</th>\n",
              "      <td>Leandro</td>\n",
              "      <td>Medeiros</td>\n",
              "      <td>9.5</td>\n",
              "      <td>True</td>\n",
              "    </tr>\n",
              "    <tr>\n",
              "      <th>345</th>\n",
              "      <td>Renata</td>\n",
              "      <td>Dias</td>\n",
              "      <td>10.0</td>\n",
              "      <td>True</td>\n",
              "    </tr>\n",
              "    <tr>\n",
              "      <th>789</th>\n",
              "      <td>Fabiano</td>\n",
              "      <td>Andrade</td>\n",
              "      <td>7.5</td>\n",
              "      <td>True</td>\n",
              "    </tr>\n",
              "    <tr>\n",
              "      <th>4322</th>\n",
              "      <td>Plínio</td>\n",
              "      <td>Peters</td>\n",
              "      <td>8.0</td>\n",
              "      <td>True</td>\n",
              "    </tr>\n",
              "    <tr>\n",
              "      <th>3434</th>\n",
              "      <td>Virgulino</td>\n",
              "      <td>Ferreira</td>\n",
              "      <td>3.0</td>\n",
              "      <td>False</td>\n",
              "    </tr>\n",
              "  </tbody>\n",
              "</table>\n",
              "</div>"
            ],
            "text/plain": [
              "           Nome Sobrenome  Nota Final Aprovado\n",
              "222     Leandro  Medeiros         9.5     True\n",
              "345      Renata      Dias        10.0     True\n",
              "789     Fabiano   Andrade         7.5     True\n",
              "4322     Plínio    Peters         8.0     True\n",
              "3434  Virgulino  Ferreira         3.0    False"
            ]
          },
          "metadata": {
            "tags": []
          },
          "execution_count": 6
        }
      ]
    },
    {
      "cell_type": "code",
      "metadata": {
        "colab": {
          "base_uri": "https://localhost:8080/"
        },
        "id": "79ySM1cdKBci",
        "outputId": "99374e23-2397-4e7b-c7ee-f45a649cb8f9"
      },
      "source": [
        "#Selecionar item pelo Index\n",
        "df.loc[222]"
      ],
      "execution_count": 10,
      "outputs": [
        {
          "output_type": "execute_result",
          "data": {
            "text/plain": [
              "Nome           Leandro\n",
              "Sobrenome     Medeiros\n",
              "Nota Final         9.5\n",
              "Aprovado          True\n",
              "Name: 222, dtype: object"
            ]
          },
          "metadata": {
            "tags": []
          },
          "execution_count": 10
        }
      ]
    },
    {
      "cell_type": "markdown",
      "metadata": {
        "id": "OjNd1CVfLPvE"
      },
      "source": [
        "##Criar novas colunas\n",
        "Uma maneira extremamente conveniente de criar novas colunas em um DataFrame é usar uma funcionalidade do Pandas conhecida como broadcasting.\n",
        "\n",
        "Informando o nome da nova coluna e declarando apenas um valor, este é replicado para todas as linhas do DataFrame"
      ]
    },
    {
      "cell_type": "code",
      "metadata": {
        "id": "UKO1eT9dKwPK"
      },
      "source": [
        "# criar coluna \"Faltas\"\n",
        "df[\"Faltas\"] = 0.0"
      ],
      "execution_count": 11,
      "outputs": []
    },
    {
      "cell_type": "code",
      "metadata": {
        "colab": {
          "base_uri": "https://localhost:8080/",
          "height": 195
        },
        "id": "i7f2-WjVLuVf",
        "outputId": "205702dc-5f88-47fc-9d86-aeae31bca009"
      },
      "source": [
        "df"
      ],
      "execution_count": 12,
      "outputs": [
        {
          "output_type": "execute_result",
          "data": {
            "text/html": [
              "<div>\n",
              "<style scoped>\n",
              "    .dataframe tbody tr th:only-of-type {\n",
              "        vertical-align: middle;\n",
              "    }\n",
              "\n",
              "    .dataframe tbody tr th {\n",
              "        vertical-align: top;\n",
              "    }\n",
              "\n",
              "    .dataframe thead th {\n",
              "        text-align: right;\n",
              "    }\n",
              "</style>\n",
              "<table border=\"1\" class=\"dataframe\">\n",
              "  <thead>\n",
              "    <tr style=\"text-align: right;\">\n",
              "      <th></th>\n",
              "      <th>Nome</th>\n",
              "      <th>Sobrenome</th>\n",
              "      <th>Nota Final</th>\n",
              "      <th>Aprovado</th>\n",
              "      <th>Faltas</th>\n",
              "    </tr>\n",
              "  </thead>\n",
              "  <tbody>\n",
              "    <tr>\n",
              "      <th>222</th>\n",
              "      <td>Leandro</td>\n",
              "      <td>Medeiros</td>\n",
              "      <td>9.5</td>\n",
              "      <td>True</td>\n",
              "      <td>0.0</td>\n",
              "    </tr>\n",
              "    <tr>\n",
              "      <th>345</th>\n",
              "      <td>Renata</td>\n",
              "      <td>Dias</td>\n",
              "      <td>10.0</td>\n",
              "      <td>True</td>\n",
              "      <td>0.0</td>\n",
              "    </tr>\n",
              "    <tr>\n",
              "      <th>789</th>\n",
              "      <td>Fabiano</td>\n",
              "      <td>Andrade</td>\n",
              "      <td>7.5</td>\n",
              "      <td>True</td>\n",
              "      <td>0.0</td>\n",
              "    </tr>\n",
              "    <tr>\n",
              "      <th>4322</th>\n",
              "      <td>Plínio</td>\n",
              "      <td>Peters</td>\n",
              "      <td>8.0</td>\n",
              "      <td>True</td>\n",
              "      <td>0.0</td>\n",
              "    </tr>\n",
              "    <tr>\n",
              "      <th>3434</th>\n",
              "      <td>Virgulino</td>\n",
              "      <td>Ferreira</td>\n",
              "      <td>3.0</td>\n",
              "      <td>False</td>\n",
              "      <td>0.0</td>\n",
              "    </tr>\n",
              "  </tbody>\n",
              "</table>\n",
              "</div>"
            ],
            "text/plain": [
              "           Nome Sobrenome  Nota Final Aprovado  Faltas\n",
              "222     Leandro  Medeiros         9.5     True     0.0\n",
              "345      Renata      Dias        10.0     True     0.0\n",
              "789     Fabiano   Andrade         7.5     True     0.0\n",
              "4322     Plínio    Peters         8.0     True     0.0\n",
              "3434  Virgulino  Ferreira         3.0    False     0.0"
            ]
          },
          "metadata": {
            "tags": []
          },
          "execution_count": 12
        }
      ]
    },
    {
      "cell_type": "markdown",
      "metadata": {
        "id": "OAs98lhEM9qh"
      },
      "source": [
        "### Modificar *index* e colunas\n",
        "\n",
        "Às vezes, precisamos alterar o nome dos índices ou o *label* das colunas. Se você olhar na célula acima, veja que na esquerda do *DataFrame* o index de cada linha é representado pelos números **222, 345, 789, 4322, 3434**\n"
      ]
    },
    {
      "cell_type": "code",
      "metadata": {
        "colab": {
          "base_uri": "https://localhost:8080/"
        },
        "id": "ra2SY8FLLvUx",
        "outputId": "58bb2265-c5c4-4f64-c9cd-64e7fc00e87d"
      },
      "source": [
        "df.index"
      ],
      "execution_count": 13,
      "outputs": [
        {
          "output_type": "execute_result",
          "data": {
            "text/plain": [
              "Int64Index([222, 345, 789, 4322, 3434], dtype='int64')"
            ]
          },
          "metadata": {
            "tags": []
          },
          "execution_count": 13
        }
      ]
    },
    {
      "cell_type": "code",
      "metadata": {
        "id": "nicFWigYNgBy"
      },
      "source": [
        "#Alterar o index do df\n",
        "df.index = [\"a\",\"b\",\"c\",\"d\",\"e\"]\n"
      ],
      "execution_count": 16,
      "outputs": []
    },
    {
      "cell_type": "code",
      "metadata": {
        "colab": {
          "base_uri": "https://localhost:8080/",
          "height": 195
        },
        "id": "oGO-21a8NwRH",
        "outputId": "b32ef2d7-0162-44ba-ad89-7ada6834b620"
      },
      "source": [
        "#Exibir o df com os novos índices\n",
        "df"
      ],
      "execution_count": 17,
      "outputs": [
        {
          "output_type": "execute_result",
          "data": {
            "text/html": [
              "<div>\n",
              "<style scoped>\n",
              "    .dataframe tbody tr th:only-of-type {\n",
              "        vertical-align: middle;\n",
              "    }\n",
              "\n",
              "    .dataframe tbody tr th {\n",
              "        vertical-align: top;\n",
              "    }\n",
              "\n",
              "    .dataframe thead th {\n",
              "        text-align: right;\n",
              "    }\n",
              "</style>\n",
              "<table border=\"1\" class=\"dataframe\">\n",
              "  <thead>\n",
              "    <tr style=\"text-align: right;\">\n",
              "      <th></th>\n",
              "      <th>Nome</th>\n",
              "      <th>Sobrenome</th>\n",
              "      <th>Nota Final</th>\n",
              "      <th>Aprovado</th>\n",
              "      <th>Faltas</th>\n",
              "    </tr>\n",
              "  </thead>\n",
              "  <tbody>\n",
              "    <tr>\n",
              "      <th>a</th>\n",
              "      <td>Leandro</td>\n",
              "      <td>Medeiros</td>\n",
              "      <td>9.5</td>\n",
              "      <td>True</td>\n",
              "      <td>0.0</td>\n",
              "    </tr>\n",
              "    <tr>\n",
              "      <th>b</th>\n",
              "      <td>Renata</td>\n",
              "      <td>Dias</td>\n",
              "      <td>10.0</td>\n",
              "      <td>True</td>\n",
              "      <td>0.0</td>\n",
              "    </tr>\n",
              "    <tr>\n",
              "      <th>c</th>\n",
              "      <td>Fabiano</td>\n",
              "      <td>Andrade</td>\n",
              "      <td>7.5</td>\n",
              "      <td>True</td>\n",
              "      <td>0.0</td>\n",
              "    </tr>\n",
              "    <tr>\n",
              "      <th>d</th>\n",
              "      <td>Plínio</td>\n",
              "      <td>Peters</td>\n",
              "      <td>8.0</td>\n",
              "      <td>True</td>\n",
              "      <td>0.0</td>\n",
              "    </tr>\n",
              "    <tr>\n",
              "      <th>e</th>\n",
              "      <td>Virgulino</td>\n",
              "      <td>Ferreira</td>\n",
              "      <td>3.0</td>\n",
              "      <td>False</td>\n",
              "      <td>0.0</td>\n",
              "    </tr>\n",
              "  </tbody>\n",
              "</table>\n",
              "</div>"
            ],
            "text/plain": [
              "        Nome Sobrenome  Nota Final Aprovado  Faltas\n",
              "a    Leandro  Medeiros         9.5     True     0.0\n",
              "b     Renata      Dias        10.0     True     0.0\n",
              "c    Fabiano   Andrade         7.5     True     0.0\n",
              "d     Plínio    Peters         8.0     True     0.0\n",
              "e  Virgulino  Ferreira         3.0    False     0.0"
            ]
          },
          "metadata": {
            "tags": []
          },
          "execution_count": 17
        }
      ]
    },
    {
      "cell_type": "markdown",
      "metadata": {
        "id": "7nXCGFuMOMq4"
      },
      "source": [
        "##Da mesma forma podemos alterar o nome das colunas"
      ]
    },
    {
      "cell_type": "code",
      "metadata": {
        "id": "Jt5uYSvVN4zN"
      },
      "source": [
        "#alterar os labels das colunas\n",
        "df.columns = [\"Nome Aluno\", \"Sobrenome Aluno\",\"Nota Semestral\",\"Aprovado\",\"Total Faltas\"]"
      ],
      "execution_count": 18,
      "outputs": []
    },
    {
      "cell_type": "code",
      "metadata": {
        "colab": {
          "base_uri": "https://localhost:8080/",
          "height": 195
        },
        "id": "zw_JZYfZOnWG",
        "outputId": "1ba33e00-57b2-4fca-92c1-2f27f07e7cdc"
      },
      "source": [
        "#Visualizar DataFrame\n",
        "df\n"
      ],
      "execution_count": 20,
      "outputs": [
        {
          "output_type": "execute_result",
          "data": {
            "text/html": [
              "<div>\n",
              "<style scoped>\n",
              "    .dataframe tbody tr th:only-of-type {\n",
              "        vertical-align: middle;\n",
              "    }\n",
              "\n",
              "    .dataframe tbody tr th {\n",
              "        vertical-align: top;\n",
              "    }\n",
              "\n",
              "    .dataframe thead th {\n",
              "        text-align: right;\n",
              "    }\n",
              "</style>\n",
              "<table border=\"1\" class=\"dataframe\">\n",
              "  <thead>\n",
              "    <tr style=\"text-align: right;\">\n",
              "      <th></th>\n",
              "      <th>Nome Aluno</th>\n",
              "      <th>Sobrenome Aluno</th>\n",
              "      <th>Nota Semestral</th>\n",
              "      <th>Aprovado</th>\n",
              "      <th>Total Faltas</th>\n",
              "    </tr>\n",
              "  </thead>\n",
              "  <tbody>\n",
              "    <tr>\n",
              "      <th>a</th>\n",
              "      <td>Leandro</td>\n",
              "      <td>Medeiros</td>\n",
              "      <td>9.5</td>\n",
              "      <td>True</td>\n",
              "      <td>0.0</td>\n",
              "    </tr>\n",
              "    <tr>\n",
              "      <th>b</th>\n",
              "      <td>Renata</td>\n",
              "      <td>Dias</td>\n",
              "      <td>10.0</td>\n",
              "      <td>True</td>\n",
              "      <td>0.0</td>\n",
              "    </tr>\n",
              "    <tr>\n",
              "      <th>c</th>\n",
              "      <td>Fabiano</td>\n",
              "      <td>Andrade</td>\n",
              "      <td>7.5</td>\n",
              "      <td>True</td>\n",
              "      <td>0.0</td>\n",
              "    </tr>\n",
              "    <tr>\n",
              "      <th>d</th>\n",
              "      <td>Plínio</td>\n",
              "      <td>Peters</td>\n",
              "      <td>8.0</td>\n",
              "      <td>True</td>\n",
              "      <td>0.0</td>\n",
              "    </tr>\n",
              "    <tr>\n",
              "      <th>e</th>\n",
              "      <td>Virgulino</td>\n",
              "      <td>Ferreira</td>\n",
              "      <td>3.0</td>\n",
              "      <td>False</td>\n",
              "      <td>0.0</td>\n",
              "    </tr>\n",
              "  </tbody>\n",
              "</table>\n",
              "</div>"
            ],
            "text/plain": [
              "  Nome Aluno Sobrenome Aluno  Nota Semestral Aprovado  Total Faltas\n",
              "a    Leandro        Medeiros             9.5     True           0.0\n",
              "b     Renata            Dias            10.0     True           0.0\n",
              "c    Fabiano         Andrade             7.5     True           0.0\n",
              "d     Plínio          Peters             8.0     True           0.0\n",
              "e  Virgulino        Ferreira             3.0    False           0.0"
            ]
          },
          "metadata": {
            "tags": []
          },
          "execution_count": 20
        }
      ]
    },
    {
      "cell_type": "code",
      "metadata": {
        "id": "tixosATWOo02"
      },
      "source": [
        ""
      ],
      "execution_count": null,
      "outputs": []
    }
  ]
}