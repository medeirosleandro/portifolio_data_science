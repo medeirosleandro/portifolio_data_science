{
  "nbformat": 4,
  "nbformat_minor": 0,
  "metadata": {
    "colab": {
      "name": "Analisando os Dados do Airbnb.ipynb",
      "provenance": [],
      "collapsed_sections": [],
      "toc_visible": true,
      "include_colab_link": true
    },
    "kernelspec": {
      "name": "python3",
      "display_name": "Python 3"
    }
  },
  "cells": [
    {
      "cell_type": "markdown",
      "metadata": {
        "id": "view-in-github",
        "colab_type": "text"
      },
      "source": [
        "<a href=\"https://colab.research.google.com/github/medeirosleandro/portifolio_data_science/blob/main/Analisando_os_Dados_do_Airbnb.ipynb\" target=\"_parent\"><img src=\"https://colab.research.google.com/assets/colab-badge.svg\" alt=\"Open In Colab\"/></a>"
      ]
    },
    {
      "cell_type": "markdown",
      "metadata": {
        "id": "kLI0gJtzDGuQ"
      },
      "source": [
        "\n",
        "# Análise dos Dados do Airbnb - *Tokyo*\n",
        "\n",
        "O [Airbnb](https://www.airbnb.com.br/) já é considerado como sendo a **maior empresa hoteleira da atualidade**. Ah, o detalhe é que ele **não possui nenhum hotel**!\n",
        "\n",
        "Conectando pessoas que querem viajar (e se hospedar) com anfitriões que querem alugar seus imóveis de maneira prática, o Airbnb fornece uma plataforma inovadora para tornar essa hospedagem alternativa.\n",
        "\n",
        "No final de 2018, a Startup fundada 10 anos atrás, já havia **hospedado mais de 300 milhões** de pessoas ao redor de todo o mundo, desafiando as redes hoteleiras tradicionais.\n",
        "\n",
        "Uma das iniciativas do Airbnb é disponibilizar dados do site, para algumas das principais cidades do mundo. Por meio do portal [Inside Airbnb](http://insideairbnb.com/get-the-data.html), é possível baixar uma grande quantidade de dados para desenvolver projetos e soluções de *Data Science*.\n",
        "\n",
        "<center><img alt=\"Analisando Airbnb\" width=\"10%\" src=\"https://www.area360.com.au/wp-content/uploads/2017/09/airbnb-logo.jpg\"></center>\n",
        "\n",
        "**Neste *notebook*, irei analisar os dados referentes à cidade  de Tokyo, e ver quais insights podem ser extraídos a partir de dados brutos.**\n",
        "\n",
      ]
    },
    {
      "cell_type": "markdown",
      "metadata": {
        "id": "0zxQHhIUDF_2"
      },
      "source": [
        "## Obtenção dos Dados\n"
      ]
    },
    {
      "cell_type": "code",
      "metadata": {
        "id": "Vhp2wMPgJ6zX"
      },
      "source": [
        "# importar os pacotes necessarios\n",
        "import pandas as pd\n",
        "import matplotlib.pyplot as plt\n",
        "import seaborn as sns\n",
        "\n",
        "%matplotlib inline\n"
      ],
      "execution_count": null,
      "outputs": []
    },
    {
      "cell_type": "code",
      "metadata": {
        "id": "tUmoAT8DLQ5T"
      },
      "source": [
        "# importar o arquivo listings.csv para um DataFrame\n",
        "df = pd.read_csv(\"http://data.insideairbnb.com/japan/kant%C5%8D/tokyo/2020-12-29/visualisations/listings.csv\")\n"
      ],
      "execution_count": null,
      "outputs": []
    },
    {
      "cell_type": "markdown",
      "metadata": {
        "id": "qb5By2nIMS6m"
      },
      "source": [
        "## Análise dos Dados"
      ]
    },
    {
      "cell_type": "markdown",
      "metadata": {
        "id": "RYgvuebKNg8-"
      },
      "source": [
        "**Dicionário das variáveis**\n",
        "\n",
        "* `id` - número de id gerado para identificar o imóvel\n",
        "* `name` - nome da propriedade anunciada\n",
        "* `host_id` - número de id do proprietário (anfitrião) da propriedade\n",
        "* `host_name` - Nome do anfitrião\n",
        "* `neighbourhood_group` - esta coluna não contém nenhum valor válido\n",
        "* `neighbourhood` - nome do bairro\n",
        "* `latitude` - coordenada da latitude da propriedade\n",
        "* `longitude` - coordenada da longitude da propriedade\n",
        "* `room_type` - informa o tipo de quarto que é oferecido\n",
        "* `price` - preço para alugar o imóvel\n",
        "* `minimum_nights` - quantidade mínima de noites para reservar\n",
        "* `number_of_reviews` - número de reviews que a propriedade possui\n",
        "* `last_review` - data do último review\n",
        "* `reviews_per_month` - quantidade de reviews por mês\n",
        "* `calculated_host_listings_count` - quantidade de imóveis do mesmo anfitrião\n",
        "* `availability_365` - número de dias de disponibilidade dentro de 365 dias\n"
      ]
    },
    {
      "cell_type": "code",
      "metadata": {
        "id": "2iS_dae7YQtO",
        "colab": {
          "base_uri": "https://localhost:8080/",
          "height": 467
        },
        "outputId": "5840c14f-f47b-4553-c6bc-826d13a26e14"
      },
      "source": [
        "# mostrar as 5 primeiras entradas\n",
        "df.head()\n"
      ],
      "execution_count": null,
      "outputs": [
        {
          "output_type": "execute_result",
          "data": {
            "text/html": [
              "<div>\n",
              "<style scoped>\n",
              "    .dataframe tbody tr th:only-of-type {\n",
              "        vertical-align: middle;\n",
              "    }\n",
              "\n",
              "    .dataframe tbody tr th {\n",
              "        vertical-align: top;\n",
              "    }\n",
              "\n",
              "    .dataframe thead th {\n",
              "        text-align: right;\n",
              "    }\n",
              "</style>\n",
              "<table border=\"1\" class=\"dataframe\">\n",
              "  <thead>\n",
              "    <tr style=\"text-align: right;\">\n",
              "      <th></th>\n",
              "      <th>id</th>\n",
              "      <th>name</th>\n",
              "      <th>host_id</th>\n",
              "      <th>host_name</th>\n",
              "      <th>neighbourhood_group</th>\n",
              "      <th>neighbourhood</th>\n",
              "      <th>latitude</th>\n",
              "      <th>longitude</th>\n",
              "      <th>room_type</th>\n",
              "      <th>price</th>\n",
              "      <th>minimum_nights</th>\n",
              "      <th>number_of_reviews</th>\n",
              "      <th>last_review</th>\n",
              "      <th>reviews_per_month</th>\n",
              "      <th>calculated_host_listings_count</th>\n",
              "      <th>availability_365</th>\n",
              "    </tr>\n",
              "  </thead>\n",
              "  <tbody>\n",
              "    <tr>\n",
              "      <th>0</th>\n",
              "      <td>197677</td>\n",
              "      <td>Oshiage Holiday Apartment</td>\n",
              "      <td>964081</td>\n",
              "      <td>Yoshimi &amp; Marek</td>\n",
              "      <td>NaN</td>\n",
              "      <td>Sumida Ku</td>\n",
              "      <td>35.71721</td>\n",
              "      <td>139.82596</td>\n",
              "      <td>Entire home/apt</td>\n",
              "      <td>11000</td>\n",
              "      <td>3</td>\n",
              "      <td>165</td>\n",
              "      <td>2020-03-04</td>\n",
              "      <td>1.46</td>\n",
              "      <td>1</td>\n",
              "      <td>2</td>\n",
              "    </tr>\n",
              "    <tr>\n",
              "      <th>1</th>\n",
              "      <td>776070</td>\n",
              "      <td>Kero-kero house room 1</td>\n",
              "      <td>801494</td>\n",
              "      <td>Kei</td>\n",
              "      <td>NaN</td>\n",
              "      <td>Kita Ku</td>\n",
              "      <td>35.73844</td>\n",
              "      <td>139.76917</td>\n",
              "      <td>Private room</td>\n",
              "      <td>7222</td>\n",
              "      <td>3</td>\n",
              "      <td>228</td>\n",
              "      <td>2020-01-18</td>\n",
              "      <td>2.31</td>\n",
              "      <td>1</td>\n",
              "      <td>156</td>\n",
              "    </tr>\n",
              "    <tr>\n",
              "      <th>2</th>\n",
              "      <td>899003</td>\n",
              "      <td>Classy room @Shinjuku, Takadanoba</td>\n",
              "      <td>4799233</td>\n",
              "      <td>Yu</td>\n",
              "      <td>NaN</td>\n",
              "      <td>Shinjuku Ku</td>\n",
              "      <td>35.70865</td>\n",
              "      <td>139.69681</td>\n",
              "      <td>Entire home/apt</td>\n",
              "      <td>5200</td>\n",
              "      <td>30</td>\n",
              "      <td>93</td>\n",
              "      <td>2019-11-25</td>\n",
              "      <td>0.97</td>\n",
              "      <td>2</td>\n",
              "      <td>180</td>\n",
              "    </tr>\n",
              "    <tr>\n",
              "      <th>3</th>\n",
              "      <td>1016831</td>\n",
              "      <td>WOMAN ONLY LICENSED ! Cosy &amp; Cat behnd Shibuya</td>\n",
              "      <td>5596383</td>\n",
              "      <td>Wakana</td>\n",
              "      <td>NaN</td>\n",
              "      <td>Setagaya Ku</td>\n",
              "      <td>35.65833</td>\n",
              "      <td>139.67153</td>\n",
              "      <td>Private room</td>\n",
              "      <td>11000</td>\n",
              "      <td>1</td>\n",
              "      <td>211</td>\n",
              "      <td>2020-03-16</td>\n",
              "      <td>2.24</td>\n",
              "      <td>1</td>\n",
              "      <td>0</td>\n",
              "    </tr>\n",
              "    <tr>\n",
              "      <th>4</th>\n",
              "      <td>1033276</td>\n",
              "      <td>private room @Senju area</td>\n",
              "      <td>5686404</td>\n",
              "      <td>Yukiko</td>\n",
              "      <td>NaN</td>\n",
              "      <td>Adachi Ku</td>\n",
              "      <td>35.74253</td>\n",
              "      <td>139.79730</td>\n",
              "      <td>Private room</td>\n",
              "      <td>30000</td>\n",
              "      <td>1</td>\n",
              "      <td>72</td>\n",
              "      <td>2018-06-17</td>\n",
              "      <td>0.77</td>\n",
              "      <td>2</td>\n",
              "      <td>270</td>\n",
              "    </tr>\n",
              "  </tbody>\n",
              "</table>\n",
              "</div>"
            ],
            "text/plain": [
              "        id  ... availability_365\n",
              "0   197677  ...                2\n",
              "1   776070  ...              156\n",
              "2   899003  ...              180\n",
              "3  1016831  ...                0\n",
              "4  1033276  ...              270\n",
              "\n",
              "[5 rows x 16 columns]"
            ]
          },
          "metadata": {
            "tags": []
          },
          "execution_count": 26
        }
      ]
    },
    {
      "cell_type": "markdown",
      "metadata": {
        "id": "6-B_qtEaYEd-"
      },
      "source": [
        "### **Q1. Quantos atributos (variáveis) e quantas entradas o nosso conjunto de dados possui? Quais os tipos das variáveis?**\n",
        "\n",
        "Vamos prosseguir e identificar a quantidade de entradas que nosso conjunto de dados possui e ver os tipos de cada coluna.\n",
        "\n",
        "Este *dataset* que baixamos é a versão \"resumida\" do Airbnb. Na mesma página que baixamos o arquivo `listings.csv`. Há uma versão mais completa com 35847 entradas e 106 variáveis (`listings.csv.gz`)."
      ]
    },
    {
      "cell_type": "code",
      "metadata": {
        "id": "TFRK0tniLV-G",
        "colab": {
          "base_uri": "https://localhost:8080/",
          "height": 353
        },
        "outputId": "190aacc7-5f85-4def-e729-19be10a17a7a"
      },
      "source": [
        "# identificar o volume de dados do DataFrame\n",
        "print(\"Entradas:\\t {}\".format(df.shape[0]))\n",
        "print(\"Variáveis:\\t {}\\n\".format(df.shape[1]))\n",
        "\n",
        "# verificar as 5 primeiras entradas do dataset\n",
        "display(df.dtypes)\n"
      ],
      "execution_count": null,
      "outputs": [
        {
          "output_type": "stream",
          "text": [
            "Entradas:\t 11353\n",
            "Variáveis:\t 16\n",
            "\n"
          ],
          "name": "stdout"
        },
        {
          "output_type": "display_data",
          "data": {
            "text/plain": [
              "id                                  int64\n",
              "name                               object\n",
              "host_id                             int64\n",
              "host_name                          object\n",
              "neighbourhood_group               float64\n",
              "neighbourhood                      object\n",
              "latitude                          float64\n",
              "longitude                         float64\n",
              "room_type                          object\n",
              "price                               int64\n",
              "minimum_nights                      int64\n",
              "number_of_reviews                   int64\n",
              "last_review                        object\n",
              "reviews_per_month                 float64\n",
              "calculated_host_listings_count      int64\n",
              "availability_365                    int64\n",
              "dtype: object"
            ]
          },
          "metadata": {
            "tags": []
          }
        }
      ]
    },
    {
      "cell_type": "markdown",
      "metadata": {
        "id": "yz1urSUGW9iE"
      },
      "source": [
        "### **Q2. Qual a porcentagem de valores ausentes no *dataset*?**\n",
        "\n",
        "A qualidade de um *dataset* está diretamente relacionada à quantidade de valores ausentes. É importante entender logo no início se esses valores nulos são significativos comparados ao total de entradas.\n",
        "\n",
        "* É possível ver que a coluna `neighbourhood_group` possui 100% dos seus valores faltantes. \n",
        "* As variáveis `reviews_per_month` e `last_review` possuem valores nulos em aproximadamente 20% da linhas.\n",
        "* A variável`host_name` têm aproximadamente 0,1% dos valores nulos.\n"
      ]
    },
    {
      "cell_type": "code",
      "metadata": {
        "id": "plk2FjbCXOqP",
        "colab": {
          "base_uri": "https://localhost:8080/"
        },
        "outputId": "572aec58-e154-4ba9-e11f-ee7d2221bea3"
      },
      "source": [
        "# ordenar em ordem decrescente as variáveis por seus valores ausentes\n",
        "(df.isnull().sum() / df.shape[0]).sort_values(ascending=False)\n"
      ],
      "execution_count": null,
      "outputs": [
        {
          "output_type": "execute_result",
          "data": {
            "text/plain": [
              "neighbourhood_group               1.000000\n",
              "reviews_per_month                 0.202766\n",
              "last_review                       0.202766\n",
              "host_name                         0.001409\n",
              "availability_365                  0.000000\n",
              "calculated_host_listings_count    0.000000\n",
              "number_of_reviews                 0.000000\n",
              "minimum_nights                    0.000000\n",
              "price                             0.000000\n",
              "room_type                         0.000000\n",
              "longitude                         0.000000\n",
              "latitude                          0.000000\n",
              "neighbourhood                     0.000000\n",
              "host_id                           0.000000\n",
              "name                              0.000000\n",
              "id                                0.000000\n",
              "dtype: float64"
            ]
          },
          "metadata": {
            "tags": []
          },
          "execution_count": 28
        }
      ]
    },
    {
      "cell_type": "markdown",
      "metadata": {
        "id": "iHXvvHIxaoNc"
      },
      "source": [
        "### **Q3. Qual o tipo de distribuição das variáveis?** "
      ]
    },
    {
      "cell_type": "code",
      "metadata": {
        "id": "q2wWSfeRbmBo",
        "colab": {
          "base_uri": "https://localhost:8080/",
          "height": 607
        },
        "outputId": "838d6f18-0148-425d-8ac1-6b8bc0752bba"
      },
      "source": [
        "# plotar o histograma das variáveis numéricas\n",
        "df.hist(bins=15, figsize=(15,10));\n"
      ],
      "execution_count": null,
      "outputs": [
        {
          "output_type": "display_data",
          "data": {
            "image/png": "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\n",
            "text/plain": [
              "<Figure size 1080x720 with 12 Axes>"
            ]
          },
          "metadata": {
            "tags": [],
            "needs_background": "light"
          }
        }
      ]
    },
    {
      "cell_type": "markdown",
      "metadata": {
        "id": "kvQfT03fzwT-"
      },
      "source": [
        "###**Q4. Há *outliers* presentes?**"
      ]
    },
    {
      "cell_type": "markdown",
      "metadata": {
        "id": "ljLImIu30UUp"
      },
      "source": [
        "Pela distribuição do histograma, é possível verificar indícios da presença de *outliers*. Olhe por exemplo as variáveis `price`, `minimum_nights` e `calculated_host_listings_count`.\n",
        "\n",
        "Os valores não seguem uma distruição, e distorcem toda a representação gráfica. Para confirmar, há duas maneiras rápidas que auxiliam a detecção de *outliers*. São elas:\n",
        "\n",
        "* Resumo estatístico por meio do método `describe()`\n",
        "* Plotar `boxplots` para a variável.\n"
      ]
    },
    {
      "cell_type": "code",
      "metadata": {
        "id": "m9eCGHzY0oPY",
        "colab": {
          "base_uri": "https://localhost:8080/",
          "height": 284
        },
        "outputId": "5afe21ca-e027-4c1d-8cdd-c194c0bc8c7b"
      },
      "source": [
        "# ver o resumo estatístico das variáveis numéricas\n",
        "df[['price', 'minimum_nights', 'number_of_reviews', 'reviews_per_month',\n",
        "    'calculated_host_listings_count', 'availability_365']].describe()"
      ],
      "execution_count": null,
      "outputs": [
        {
          "output_type": "execute_result",
          "data": {
            "text/html": [
              "<div>\n",
              "<style scoped>\n",
              "    .dataframe tbody tr th:only-of-type {\n",
              "        vertical-align: middle;\n",
              "    }\n",
              "\n",
              "    .dataframe tbody tr th {\n",
              "        vertical-align: top;\n",
              "    }\n",
              "\n",
              "    .dataframe thead th {\n",
              "        text-align: right;\n",
              "    }\n",
              "</style>\n",
              "<table border=\"1\" class=\"dataframe\">\n",
              "  <thead>\n",
              "    <tr style=\"text-align: right;\">\n",
              "      <th></th>\n",
              "      <th>price</th>\n",
              "      <th>minimum_nights</th>\n",
              "      <th>number_of_reviews</th>\n",
              "      <th>reviews_per_month</th>\n",
              "      <th>calculated_host_listings_count</th>\n",
              "      <th>availability_365</th>\n",
              "    </tr>\n",
              "  </thead>\n",
              "  <tbody>\n",
              "    <tr>\n",
              "      <th>count</th>\n",
              "      <td>1.135300e+04</td>\n",
              "      <td>11353.000000</td>\n",
              "      <td>11353.000000</td>\n",
              "      <td>9051.000000</td>\n",
              "      <td>11353.000000</td>\n",
              "      <td>11353.000000</td>\n",
              "    </tr>\n",
              "    <tr>\n",
              "      <th>mean</th>\n",
              "      <td>1.396696e+04</td>\n",
              "      <td>3.765525</td>\n",
              "      <td>25.619572</td>\n",
              "      <td>1.234588</td>\n",
              "      <td>12.811327</td>\n",
              "      <td>127.798467</td>\n",
              "    </tr>\n",
              "    <tr>\n",
              "      <th>std</th>\n",
              "      <td>3.490950e+04</td>\n",
              "      <td>17.663082</td>\n",
              "      <td>41.099224</td>\n",
              "      <td>1.153260</td>\n",
              "      <td>14.874024</td>\n",
              "      <td>117.621476</td>\n",
              "    </tr>\n",
              "    <tr>\n",
              "      <th>min</th>\n",
              "      <td>9.500000e+02</td>\n",
              "      <td>1.000000</td>\n",
              "      <td>0.000000</td>\n",
              "      <td>0.020000</td>\n",
              "      <td>1.000000</td>\n",
              "      <td>0.000000</td>\n",
              "    </tr>\n",
              "    <tr>\n",
              "      <th>25%</th>\n",
              "      <td>4.571000e+03</td>\n",
              "      <td>1.000000</td>\n",
              "      <td>1.000000</td>\n",
              "      <td>0.420000</td>\n",
              "      <td>3.000000</td>\n",
              "      <td>11.000000</td>\n",
              "    </tr>\n",
              "    <tr>\n",
              "      <th>50%</th>\n",
              "      <td>8.000000e+03</td>\n",
              "      <td>1.000000</td>\n",
              "      <td>9.000000</td>\n",
              "      <td>0.990000</td>\n",
              "      <td>8.000000</td>\n",
              "      <td>90.000000</td>\n",
              "    </tr>\n",
              "    <tr>\n",
              "      <th>75%</th>\n",
              "      <td>1.400000e+04</td>\n",
              "      <td>2.000000</td>\n",
              "      <td>32.000000</td>\n",
              "      <td>1.710000</td>\n",
              "      <td>17.000000</td>\n",
              "      <td>188.000000</td>\n",
              "    </tr>\n",
              "    <tr>\n",
              "      <th>max</th>\n",
              "      <td>1.014286e+06</td>\n",
              "      <td>300.000000</td>\n",
              "      <td>488.000000</td>\n",
              "      <td>17.290000</td>\n",
              "      <td>98.000000</td>\n",
              "      <td>365.000000</td>\n",
              "    </tr>\n",
              "  </tbody>\n",
              "</table>\n",
              "</div>"
            ],
            "text/plain": [
              "              price  ...  availability_365\n",
              "count  1.135300e+04  ...      11353.000000\n",
              "mean   1.396696e+04  ...        127.798467\n",
              "std    3.490950e+04  ...        117.621476\n",
              "min    9.500000e+02  ...          0.000000\n",
              "25%    4.571000e+03  ...         11.000000\n",
              "50%    8.000000e+03  ...         90.000000\n",
              "75%    1.400000e+04  ...        188.000000\n",
              "max    1.014286e+06  ...        365.000000\n",
              "\n",
              "[8 rows x 6 columns]"
            ]
          },
          "metadata": {
            "tags": []
          },
          "execution_count": 30
        }
      ]
    },
    {
      "cell_type": "markdown",
      "metadata": {
        "id": "pzfCHtI82UsI"
      },
      "source": [
        "Olhando o resumo estatístico acima, podemos confirmar algumas hipóteses como:\n",
        "\n",
        "* A variável `price` possui 75% do valor abaixo de 632, porém seu valor máximo é 131727.\n",
        "* A quantidade mínima de noites (`minimum_nights`) está acima de 365 dias no ano.\n"
      ]
    },
    {
      "cell_type": "markdown",
      "metadata": {
        "id": "57JeNMyq3AqA"
      },
      "source": [
        "\n",
        "### **Boxplot para minimum_nights**"
      ]
    },
    {
      "cell_type": "code",
      "metadata": {
        "id": "pX3UG09j3NRN",
        "colab": {
          "base_uri": "https://localhost:8080/",
          "height": 262
        },
        "outputId": "f15e2134-b05c-40a6-e3a4-afbfe57c44f7"
      },
      "source": [
        "# minimum_nights\n",
        "df.minimum_nights.plot(kind='box', vert=False, figsize=(15, 3))\n",
        "plt.show()\n",
        "\n",
        "# ver quantidade de valores acima de 30 dias para minimum_nights\n",
        "print(\"minimum_nights: valores acima de 30:\")\n",
        "print(\"{} entradas\".format(len(df[df.minimum_nights > 30])))\n",
        "print(\"{:.4f}%\".format((len(df[df.minimum_nights > 30]) / df.shape[0])*100))"
      ],
      "execution_count": null,
      "outputs": [
        {
          "output_type": "display_data",
          "data": {
            "image/png": "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\n",
            "text/plain": [
              "<Figure size 1080x216 with 1 Axes>"
            ]
          },
          "metadata": {
            "tags": [],
            "needs_background": "light"
          }
        },
        {
          "output_type": "stream",
          "text": [
            "minimum_nights: valores acima de 30:\n",
            "61 entradas\n",
            "0.5373%\n"
          ],
          "name": "stdout"
        }
      ]
    },
    {
      "cell_type": "markdown",
      "metadata": {
        "id": "dvqeJOUS3V-G"
      },
      "source": [
        "### **Boxplot para price**"
      ]
    },
    {
      "cell_type": "code",
      "metadata": {
        "id": "zUsYsVXa3z9H",
        "colab": {
          "base_uri": "https://localhost:8080/",
          "height": 291
        },
        "outputId": "d901c45c-c1ca-4fc2-b869-5699af8e0a10"
      },
      "source": [
        "# price\n",
        "df.price.plot(kind='box', vert=False, figsize=(15, 3),)\n",
        "plt.show()\n",
        "\n",
        "# ver quantidade de valores acima de 1500 para price\n",
        "print(\"\\nprice: valores acima de 1500\")\n",
        "print(\"{} entradas\".format(len(df[df.price > 1500])))\n",
        "print(\"{:.4f}%\".format((len(df[df.price > 1500]) / df.shape[0])*100))\n",
        "\n",
        "# df.price.plot(kind='box', vert=False, xlim=(0,1300), figsize=(15,3));"
      ],
      "execution_count": null,
      "outputs": [
        {
          "output_type": "display_data",
          "data": {
            "image/png": "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\n",
            "text/plain": [
              "<Figure size 1080x216 with 1 Axes>"
            ]
          },
          "metadata": {
            "tags": [],
            "needs_background": "light"
          }
        },
        {
          "output_type": "stream",
          "text": [
            "\n",
            "price: valores acima de 1500\n",
            "11173 entradas\n",
            "98.4145%\n"
          ],
          "name": "stdout"
        }
      ]
    },
    {
      "cell_type": "markdown",
      "metadata": {
        "id": "jDUBXYYxT1hB"
      },
      "source": [
        "### ** Histograma sem Outliers**\n",
        "\n",
        "Já que identificamos outliers nas variáveis price e minimum_nights, vamos agora limpar o DataFrame delas e plotar novamente o histograma.\n"
      ]
    },
    {
      "cell_type": "code",
      "metadata": {
        "colab": {
          "base_uri": "https://localhost:8080/",
          "height": 607
        },
        "id": "u0uruZaIUGdI",
        "outputId": "0c44b480-439a-4ec7-d950-ecb6bdff943b"
      },
      "source": [
        "# remover os *outliers* em um novo DataFrame\n",
        "df_clean = df.copy()\n",
        "\n",
        "# remover `neighbourhood_group`, pois está vazio\n",
        "df_clean.drop('neighbourhood_group', axis=1, inplace=True)\n",
        "\n",
        "# plotar o histograma para as variáveis numéricas\n",
        "df_clean.hist(bins=15, figsize=(15,10));\n"
      ],
      "execution_count": null,
      "outputs": [
        {
          "output_type": "display_data",
          "data": {
            "image/png": "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\n",
            "text/plain": [
              "<Figure size 1080x720 with 12 Axes>"
            ]
          },
          "metadata": {
            "tags": [],
            "needs_background": "light"
          }
        }
      ]
    },
    {
      "cell_type": "markdown",
      "metadata": {
        "id": "7x4aw1j5wNmn"
      },
      "source": [
        "### **Q5. Qual a média dos preços de aluguel?**"
      ]
    },
    {
      "cell_type": "code",
      "metadata": {
        "id": "ff-8gUahLk-C",
        "colab": {
          "base_uri": "https://localhost:8080/"
        },
        "outputId": "1436aad1-d03e-4ecf-b1ce-7f2bd777cdab"
      },
      "source": [
        "# ver a média da coluna `price``\n",
        "price_mean = float(df.price.mean())\n",
        "print(\"A média de preços em Tokyo é ¥{:.2f}\".format(price_mean))\n",
        "\n",
        "\n"
      ],
      "execution_count": null,
      "outputs": [
        {
          "output_type": "stream",
          "text": [
            "A média de preços em Tokyo é ¥13966.96\n"
          ],
          "name": "stdout"
        }
      ]
    },
    {
      "cell_type": "markdown",
      "metadata": {
        "id": "WncBUA-mW67J"
      },
      "source": [
        "**Obs:** Valor de um Iene Japonês em **24 / 01 / 2021** é de aproximandamente R$0,05"
      ]
    },
    {
      "cell_type": "markdown",
      "metadata": {
        "id": "IXn2oIo5qx-w"
      },
      "source": [
        "### **Q6. Qual a correlação existente entre as variáveis**"
      ]
    },
    {
      "cell_type": "markdown",
      "metadata": {
        "id": "J8J-APv4Ybc9"
      },
      "source": [
        "Correlação significa que existe uma relação entre duas coisas. No nosso contexto, estamos buscando relação ou semelhança entre duas variáveis.\n",
        "\n",
        "Essa relação pode ser medida, e é função do coeficiente de correlação estabelecer qual a intensidade dela. Para identificar as correlações existentes entre as variáveis de interesse, vou:\n",
        "\n",
        "- Criar uma matriz de correlação\n",
        "- Gerar um heatmap a partir dessa matriz, usando a biblioteca seaborn"
      ]
    },
    {
      "cell_type": "code",
      "metadata": {
        "id": "x2ayzBajqxyd"
      },
      "source": [
        "# criar uma matriz de correlação\n",
        "corr = df_clean[['price', 'minimum_nights', 'number_of_reviews', 'reviews_per_month',\n",
        "    'calculated_host_listings_count', 'availability_365']].corr()\n",
        "\n",
        "\n"
      ],
      "execution_count": null,
      "outputs": []
    },
    {
      "cell_type": "code",
      "metadata": {
        "id": "91UujDr6ueqE",
        "colab": {
          "base_uri": "https://localhost:8080/",
          "height": 245
        },
        "outputId": "5957fe14-4954-491c-8c86-abdf10f59b51"
      },
      "source": [
        "# plotar um heatmap a partir das correlações\n",
        "display(corr)"
      ],
      "execution_count": null,
      "outputs": [
        {
          "output_type": "display_data",
          "data": {
            "text/html": [
              "<div>\n",
              "<style scoped>\n",
              "    .dataframe tbody tr th:only-of-type {\n",
              "        vertical-align: middle;\n",
              "    }\n",
              "\n",
              "    .dataframe tbody tr th {\n",
              "        vertical-align: top;\n",
              "    }\n",
              "\n",
              "    .dataframe thead th {\n",
              "        text-align: right;\n",
              "    }\n",
              "</style>\n",
              "<table border=\"1\" class=\"dataframe\">\n",
              "  <thead>\n",
              "    <tr style=\"text-align: right;\">\n",
              "      <th></th>\n",
              "      <th>price</th>\n",
              "      <th>minimum_nights</th>\n",
              "      <th>number_of_reviews</th>\n",
              "      <th>reviews_per_month</th>\n",
              "      <th>calculated_host_listings_count</th>\n",
              "      <th>availability_365</th>\n",
              "    </tr>\n",
              "  </thead>\n",
              "  <tbody>\n",
              "    <tr>\n",
              "      <th>price</th>\n",
              "      <td>1.000000</td>\n",
              "      <td>-0.026946</td>\n",
              "      <td>-0.032519</td>\n",
              "      <td>-0.000092</td>\n",
              "      <td>-0.031705</td>\n",
              "      <td>-0.018901</td>\n",
              "    </tr>\n",
              "    <tr>\n",
              "      <th>minimum_nights</th>\n",
              "      <td>-0.026946</td>\n",
              "      <td>1.000000</td>\n",
              "      <td>-0.046059</td>\n",
              "      <td>-0.085778</td>\n",
              "      <td>0.088026</td>\n",
              "      <td>0.073477</td>\n",
              "    </tr>\n",
              "    <tr>\n",
              "      <th>number_of_reviews</th>\n",
              "      <td>-0.032519</td>\n",
              "      <td>-0.046059</td>\n",
              "      <td>1.000000</td>\n",
              "      <td>0.691111</td>\n",
              "      <td>-0.176137</td>\n",
              "      <td>0.016500</td>\n",
              "    </tr>\n",
              "    <tr>\n",
              "      <th>reviews_per_month</th>\n",
              "      <td>-0.000092</td>\n",
              "      <td>-0.085778</td>\n",
              "      <td>0.691111</td>\n",
              "      <td>1.000000</td>\n",
              "      <td>-0.165975</td>\n",
              "      <td>-0.021563</td>\n",
              "    </tr>\n",
              "    <tr>\n",
              "      <th>calculated_host_listings_count</th>\n",
              "      <td>-0.031705</td>\n",
              "      <td>0.088026</td>\n",
              "      <td>-0.176137</td>\n",
              "      <td>-0.165975</td>\n",
              "      <td>1.000000</td>\n",
              "      <td>0.079140</td>\n",
              "    </tr>\n",
              "    <tr>\n",
              "      <th>availability_365</th>\n",
              "      <td>-0.018901</td>\n",
              "      <td>0.073477</td>\n",
              "      <td>0.016500</td>\n",
              "      <td>-0.021563</td>\n",
              "      <td>0.079140</td>\n",
              "      <td>1.000000</td>\n",
              "    </tr>\n",
              "  </tbody>\n",
              "</table>\n",
              "</div>"
            ],
            "text/plain": [
              "                                   price  ...  availability_365\n",
              "price                           1.000000  ...         -0.018901\n",
              "minimum_nights                 -0.026946  ...          0.073477\n",
              "number_of_reviews              -0.032519  ...          0.016500\n",
              "reviews_per_month              -0.000092  ...         -0.021563\n",
              "calculated_host_listings_count -0.031705  ...          0.079140\n",
              "availability_365               -0.018901  ...          1.000000\n",
              "\n",
              "[6 rows x 6 columns]"
            ]
          },
          "metadata": {
            "tags": []
          }
        }
      ]
    },
    {
      "cell_type": "markdown",
      "metadata": {
        "id": "7b6RMWpuHKN-"
      },
      "source": [
        "### **Q7. Qual o tipo de imóvel mais alugado no Airbnb?**"
      ]
    },
    {
      "cell_type": "code",
      "metadata": {
        "id": "ueLPNWvPHgfB",
        "colab": {
          "base_uri": "https://localhost:8080/"
        },
        "outputId": "e268db6c-9890-4716-bc7c-65c12bf59987"
      },
      "source": [
        "# mostrar a quantidade de cada tipo de imóvel disponível\n",
        "df_clean.room_type.value_counts()\n"
      ],
      "execution_count": null,
      "outputs": [
        {
          "output_type": "execute_result",
          "data": {
            "text/plain": [
              "Entire home/apt    8009\n",
              "Private room       2457\n",
              "Shared room         455\n",
              "Hotel room          432\n",
              "Name: room_type, dtype: int64"
            ]
          },
          "metadata": {
            "tags": []
          },
          "execution_count": 38
        }
      ]
    },
    {
      "cell_type": "code",
      "metadata": {
        "id": "EvwoO-XAHhIm",
        "colab": {
          "base_uri": "https://localhost:8080/"
        },
        "outputId": "ee34f553-8b22-48a8-9410-0d7b249db5ff"
      },
      "source": [
        "# mostrar a porcentagem de cada tipo de imóvel disponível\n",
        "df_clean.room_type.value_counts() / df_clean.shape[0]"
      ],
      "execution_count": null,
      "outputs": [
        {
          "output_type": "execute_result",
          "data": {
            "text/plain": [
              "Entire home/apt    0.705452\n",
              "Private room       0.216419\n",
              "Shared room        0.040078\n",
              "Hotel room         0.038052\n",
              "Name: room_type, dtype: float64"
            ]
          },
          "metadata": {
            "tags": []
          },
          "execution_count": 39
        }
      ]
    },
    {
      "cell_type": "markdown",
      "metadata": {
        "id": "MFa5NbnLJMcd"
      },
      "source": [
        "### **Q8. Qual a localidade mais cara do dataset?**\n",
        "\n"
      ]
    },
    {
      "cell_type": "code",
      "metadata": {
        "id": "MD_xa143JZpi",
        "colab": {
          "base_uri": "https://localhost:8080/",
          "height": 875
        },
        "outputId": "468a41f5-0bec-4b21-ba1e-d254ed135ab8"
      },
      "source": [
        "# ver preços por bairros, na média\n",
        "df_clean.groupby(['neighbourhood']).price.mean().sort_values(ascending=False)[:10]\n",
        "\n",
        "#Quantidade de imóveis no bairro mais Caro\n",
        "print(df_clean[df_clean.neighbourhood == \"Edogawa Ku\"].shape)\n",
        "\n",
        "df_clean[df_clean.neighbourhood == \"Edogawa Ku\"]"
      ],
      "execution_count": null,
      "outputs": [
        {
          "output_type": "stream",
          "text": [
            "(193, 15)\n"
          ],
          "name": "stdout"
        },
        {
          "output_type": "execute_result",
          "data": {
            "text/html": [
              "<div>\n",
              "<style scoped>\n",
              "    .dataframe tbody tr th:only-of-type {\n",
              "        vertical-align: middle;\n",
              "    }\n",
              "\n",
              "    .dataframe tbody tr th {\n",
              "        vertical-align: top;\n",
              "    }\n",
              "\n",
              "    .dataframe thead th {\n",
              "        text-align: right;\n",
              "    }\n",
              "</style>\n",
              "<table border=\"1\" class=\"dataframe\">\n",
              "  <thead>\n",
              "    <tr style=\"text-align: right;\">\n",
              "      <th></th>\n",
              "      <th>id</th>\n",
              "      <th>name</th>\n",
              "      <th>host_id</th>\n",
              "      <th>host_name</th>\n",
              "      <th>neighbourhood</th>\n",
              "      <th>latitude</th>\n",
              "      <th>longitude</th>\n",
              "      <th>room_type</th>\n",
              "      <th>price</th>\n",
              "      <th>minimum_nights</th>\n",
              "      <th>number_of_reviews</th>\n",
              "      <th>last_review</th>\n",
              "      <th>reviews_per_month</th>\n",
              "      <th>calculated_host_listings_count</th>\n",
              "      <th>availability_365</th>\n",
              "    </tr>\n",
              "  </thead>\n",
              "  <tbody>\n",
              "    <tr>\n",
              "      <th>104</th>\n",
              "      <td>4958750</td>\n",
              "      <td>Convenient charming house</td>\n",
              "      <td>20993205</td>\n",
              "      <td>Seiichi &amp; Keiko</td>\n",
              "      <td>Edogawa Ku</td>\n",
              "      <td>35.73821</td>\n",
              "      <td>139.88578</td>\n",
              "      <td>Private room</td>\n",
              "      <td>5000</td>\n",
              "      <td>3</td>\n",
              "      <td>100</td>\n",
              "      <td>2020-02-26</td>\n",
              "      <td>1.43</td>\n",
              "      <td>1</td>\n",
              "      <td>180</td>\n",
              "    </tr>\n",
              "    <tr>\n",
              "      <th>167</th>\n",
              "      <td>6172827</td>\n",
              "      <td>13 min to Disneyland/akihabara</td>\n",
              "      <td>29410164</td>\n",
              "      <td>JCK Residence</td>\n",
              "      <td>Edogawa Ku</td>\n",
              "      <td>35.71361</td>\n",
              "      <td>139.85572</td>\n",
              "      <td>Private room</td>\n",
              "      <td>5800</td>\n",
              "      <td>3</td>\n",
              "      <td>69</td>\n",
              "      <td>2019-11-18</td>\n",
              "      <td>1.00</td>\n",
              "      <td>4</td>\n",
              "      <td>243</td>\n",
              "    </tr>\n",
              "    <tr>\n",
              "      <th>209</th>\n",
              "      <td>7057399</td>\n",
              "      <td>102Tokyo JRHiraiSt. take a walk 9minutes apart...</td>\n",
              "      <td>37012733</td>\n",
              "      <td>Mariko</td>\n",
              "      <td>Edogawa Ku</td>\n",
              "      <td>35.70339</td>\n",
              "      <td>139.84253</td>\n",
              "      <td>Entire home/apt</td>\n",
              "      <td>2500</td>\n",
              "      <td>14</td>\n",
              "      <td>43</td>\n",
              "      <td>2020-11-24</td>\n",
              "      <td>0.74</td>\n",
              "      <td>3</td>\n",
              "      <td>1</td>\n",
              "    </tr>\n",
              "    <tr>\n",
              "      <th>222</th>\n",
              "      <td>7349832</td>\n",
              "      <td>101Tokyo JRHirai St. take a walk9minutes apart...</td>\n",
              "      <td>37012733</td>\n",
              "      <td>Mariko</td>\n",
              "      <td>Edogawa Ku</td>\n",
              "      <td>35.70165</td>\n",
              "      <td>139.84284</td>\n",
              "      <td>Entire home/apt</td>\n",
              "      <td>3000</td>\n",
              "      <td>14</td>\n",
              "      <td>63</td>\n",
              "      <td>2020-12-15</td>\n",
              "      <td>0.96</td>\n",
              "      <td>3</td>\n",
              "      <td>102</td>\n",
              "    </tr>\n",
              "    <tr>\n",
              "      <th>364</th>\n",
              "      <td>9910925</td>\n",
              "      <td>【EG-PT1】高級シングルベッド+シングル布団【個室】（寝具１組の時のみ2人目無料）</td>\n",
              "      <td>49237439</td>\n",
              "      <td>Ken</td>\n",
              "      <td>Edogawa Ku</td>\n",
              "      <td>35.74012</td>\n",
              "      <td>139.89638</td>\n",
              "      <td>Private room</td>\n",
              "      <td>1700</td>\n",
              "      <td>7</td>\n",
              "      <td>7</td>\n",
              "      <td>2020-11-03</td>\n",
              "      <td>0.12</td>\n",
              "      <td>7</td>\n",
              "      <td>337</td>\n",
              "    </tr>\n",
              "    <tr>\n",
              "      <th>...</th>\n",
              "      <td>...</td>\n",
              "      <td>...</td>\n",
              "      <td>...</td>\n",
              "      <td>...</td>\n",
              "      <td>...</td>\n",
              "      <td>...</td>\n",
              "      <td>...</td>\n",
              "      <td>...</td>\n",
              "      <td>...</td>\n",
              "      <td>...</td>\n",
              "      <td>...</td>\n",
              "      <td>...</td>\n",
              "      <td>...</td>\n",
              "      <td>...</td>\n",
              "      <td>...</td>\n",
              "    </tr>\n",
              "    <tr>\n",
              "      <th>10673</th>\n",
              "      <td>45443881</td>\n",
              "      <td>30日以上滞在割引★戸建貸切/京成小岩駅徒歩４分/スカイツリー１１分・浅草１６分/１０名収容</td>\n",
              "      <td>322525330</td>\n",
              "      <td>Hajime</td>\n",
              "      <td>Edogawa Ku</td>\n",
              "      <td>35.74073</td>\n",
              "      <td>139.88193</td>\n",
              "      <td>Entire home/apt</td>\n",
              "      <td>50000</td>\n",
              "      <td>30</td>\n",
              "      <td>0</td>\n",
              "      <td>NaN</td>\n",
              "      <td>NaN</td>\n",
              "      <td>2</td>\n",
              "      <td>0</td>\n",
              "    </tr>\n",
              "    <tr>\n",
              "      <th>10897</th>\n",
              "      <td>45934706</td>\n",
              "      <td>駅から3分/ホテルを貸し切り/パーティーもできる/ゲーム各種/大きなキッチン/家族滞在/長期割有/</td>\n",
              "      <td>352412571</td>\n",
              "      <td>Leila</td>\n",
              "      <td>Edogawa Ku</td>\n",
              "      <td>35.70417</td>\n",
              "      <td>139.84285</td>\n",
              "      <td>Private room</td>\n",
              "      <td>43571</td>\n",
              "      <td>1</td>\n",
              "      <td>6</td>\n",
              "      <td>2020-12-27</td>\n",
              "      <td>6.00</td>\n",
              "      <td>7</td>\n",
              "      <td>28</td>\n",
              "    </tr>\n",
              "    <tr>\n",
              "      <th>10929</th>\n",
              "      <td>46012729</td>\n",
              "      <td>都営新宿線　篠崎駅から徒歩6分の場所。6minutes from shinozaki sta...</td>\n",
              "      <td>372976354</td>\n",
              "      <td>早栄館</td>\n",
              "      <td>Edogawa Ku</td>\n",
              "      <td>35.70032</td>\n",
              "      <td>139.90789</td>\n",
              "      <td>Private room</td>\n",
              "      <td>2800</td>\n",
              "      <td>1</td>\n",
              "      <td>0</td>\n",
              "      <td>NaN</td>\n",
              "      <td>NaN</td>\n",
              "      <td>2</td>\n",
              "      <td>365</td>\n",
              "    </tr>\n",
              "    <tr>\n",
              "      <th>10953</th>\n",
              "      <td>46072085</td>\n",
              "      <td>都営新宿線　篠崎駅から徒歩6分の場所。6minutes from shinozaki sta...</td>\n",
              "      <td>372976354</td>\n",
              "      <td>早栄館</td>\n",
              "      <td>Edogawa Ku</td>\n",
              "      <td>35.70208</td>\n",
              "      <td>139.90585</td>\n",
              "      <td>Private room</td>\n",
              "      <td>2800</td>\n",
              "      <td>1</td>\n",
              "      <td>0</td>\n",
              "      <td>NaN</td>\n",
              "      <td>NaN</td>\n",
              "      <td>2</td>\n",
              "      <td>365</td>\n",
              "    </tr>\n",
              "    <tr>\n",
              "      <th>11115</th>\n",
              "      <td>46540293</td>\n",
              "      <td>3 minutes walk from Koiwa station! 7 ppl can stay</td>\n",
              "      <td>375491293</td>\n",
              "      <td>Shizuko</td>\n",
              "      <td>Edogawa Ku</td>\n",
              "      <td>35.73206</td>\n",
              "      <td>139.87863</td>\n",
              "      <td>Entire home/apt</td>\n",
              "      <td>17229</td>\n",
              "      <td>1</td>\n",
              "      <td>0</td>\n",
              "      <td>NaN</td>\n",
              "      <td>NaN</td>\n",
              "      <td>1</td>\n",
              "      <td>349</td>\n",
              "    </tr>\n",
              "  </tbody>\n",
              "</table>\n",
              "<p>193 rows × 15 columns</p>\n",
              "</div>"
            ],
            "text/plain": [
              "             id  ... availability_365\n",
              "104     4958750  ...              180\n",
              "167     6172827  ...              243\n",
              "209     7057399  ...                1\n",
              "222     7349832  ...              102\n",
              "364     9910925  ...              337\n",
              "...         ...  ...              ...\n",
              "10673  45443881  ...                0\n",
              "10897  45934706  ...               28\n",
              "10929  46012729  ...              365\n",
              "10953  46072085  ...              365\n",
              "11115  46540293  ...              349\n",
              "\n",
              "[193 rows x 15 columns]"
            ]
          },
          "metadata": {
            "tags": []
          },
          "execution_count": 40
        }
      ]
    },
    {
      "cell_type": "code",
      "metadata": {
        "id": "UxVJqJ_3W59I",
        "colab": {
          "base_uri": "https://localhost:8080/",
          "height": 480
        },
        "outputId": "baec2c0b-06f2-4e01-a5e8-c3b742b954af"
      },
      "source": [
        "# plotar os imóveis pela latitude-longitude\n",
        "df_clean.plot(kind=\"scatter\", x='longitude', y='latitude', alpha=0.4, c=df_clean['price'], s=8,\n",
        "              cmap=plt.get_cmap('jet'), figsize=(12,8));\n"
      ],
      "execution_count": null,
      "outputs": [
        {
          "output_type": "display_data",
          "data": {
            "image/png": "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\n",
            "text/plain": [
              "<Figure size 864x576 with 2 Axes>"
            ]
          },
          "metadata": {
            "tags": [],
            "needs_background": "light"
          }
        }
      ]
    },
    {
      "cell_type": "markdown",
      "metadata": {
        "id": "vTneAMRUYvr1"
      },
      "source": [
        "### **Q9. Qual é a média do mínimo de noites para aluguel (minimum_nights)?**"
      ]
    },
    {
      "cell_type": "code",
      "metadata": {
        "id": "_VzNhrEgY82N",
        "colab": {
          "base_uri": "https://localhost:8080/"
        },
        "outputId": "8efb910d-1513-4d78-876e-4c408faccfe4"
      },
      "source": [
        "# ver a média da coluna `minimum_nights``\n",
        "df_clean.minimum_nights.mean()"
      ],
      "execution_count": null,
      "outputs": [
        {
          "output_type": "execute_result",
          "data": {
            "text/plain": [
              "3.7655245309609793"
            ]
          },
          "metadata": {
            "tags": []
          },
          "execution_count": 42
        }
      ]
    },
    {
      "cell_type": "markdown",
      "metadata": {
        "id": "GkvAg623RjoR"
      },
      "source": [
        "## Conclusões\n"
      ]
    },
    {
      "cell_type": "markdown",
      "metadata": {
        "id": "rbZ3Hsy9Ypw8"
      },
      "source": [
        "Análise feita em uma base reduzida, fornecida pelo [**Airbnb**](http://insideairbnb.com/get-the-data.html), mas foi possivel verificar o poder da manipulação de dados usando Python e as bibliotecas:\n",
        "\n",
        " - [**pandas**](https://pt.wikipedia.org/wiki/Pandas_(software)) - Manipulação e análise de daddos.\n",
        "\n",
        " - [**matplotlib**](https://pt.wikipedia.org/wiki/Matplotlib) - Geração de Gráficos. \n",
        "\n",
        " - [**seaborn**](https://seaborn.pydata.org/) - Baseada em matplotlib . Ele fornece uma interface de alto nível para desenhar gráficos estatísticos.\n",
        "\n",
        "Durante a análise foram indentifcados **Outliers**, que em resumo são valores que fogem do contexto geral dos demais valores.(Referência:[**Minerando Dados**](https://minerandodados.com.br/tratando-outliers-python/))"
      ]
    },
    {
      "cell_type": "code",
      "metadata": {
        "id": "jckJza2AoTN_"
      },
      "source": [
        ""
      ],
      "execution_count": null,
      "outputs": []
    }
  ]
}
